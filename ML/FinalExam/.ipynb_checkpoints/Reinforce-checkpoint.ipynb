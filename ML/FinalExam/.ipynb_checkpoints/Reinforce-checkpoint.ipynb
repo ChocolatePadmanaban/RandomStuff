{
 "cells": [
  {
   "cell_type": "code",
   "execution_count": 5,
   "metadata": {},
   "outputs": [
    {
     "name": "stdout",
     "output_type": "stream",
     "text": [
      "\n",
      " Iteration 0\n",
      "\n",
      " Iteration 1\n"
     ]
    }
   ],
   "source": [
    "from sympy import *\n",
    "import numpy as np\n",
    "\n",
    "p,v= symbols('p v')\n",
    "\n",
    "init_printing()\n",
    "\n",
    "V = np.zeros(3)\n",
    "\n",
    "actio = np.array([[0,1,0],[0,p,1-p],[0,0,1]])\n",
    "\n",
    "reward = np.array([[0,0,0],[0,1,1],[0,0,0]])\n",
    "\n",
    "for i in range(2):\n",
    "    C_action = np.sum(actio*(v*np.ones((3,3))*V[None,:]+reward),axis=1)\n",
    "    V = C_action\n",
    "    print(\"\\n Iteration\",i+1)\n",
    "    for ele, val in enumerate(V):\n",
    "        print(ele,val)"
   ]
  },
  {
   "cell_type": "code",
   "execution_count": 3,
   "metadata": {},
   "outputs": [
    {
     "data": {
      "image/png": "[encoded data removed]",
      "text/latex": [
       "$\\displaystyle \\int \\sqrt{\\frac{1}{p}}\\, dp$"
      ],
      "text/plain": [
       "⌠           \n",
       "⎮     ___   \n",
       "⎮    ╱ 1    \n",
       "⎮   ╱  ─  dp\n",
       "⎮ ╲╱   p    \n",
       "⌡           "
      ]
     },
     "execution_count": 3,
     "metadata": {},
     "output_type": "execute_result"
    }
   ],
   "source": []
  },
  {
   "cell_type": "code",
   "execution_count": null,
   "metadata": {},
   "outputs": [],
   "source": []
  }
 ],
 "metadata": {
  "kernelspec": {
   "display_name": "Python 3",
   "language": "python",
   "name": "python3"
  },
  "language_info": {
   "codemirror_mode": {
    "name": "ipython",
    "version": 3
   },
   "file_extension": ".py",
   "mimetype": "text/x-python",
   "name": "python",
   "nbconvert_exporter": "python",
   "pygments_lexer": "ipython3",
   "version": "3.7.3"
  }
 },
 "nbformat": 4,
 "nbformat_minor": 2
}
